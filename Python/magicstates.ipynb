{
 "cells": [
  {
   "cell_type": "code",
   "execution_count": 1,
   "metadata": {},
   "outputs": [],
   "source": [
    "from mpmath import mp\n",
    "\n",
    "mp.prec = 4096"
   ]
  },
  {
   "cell_type": "markdown",
   "metadata": {},
   "source": [
    "# Factories from the paper"
   ]
  },
  {
   "cell_type": "code",
   "execution_count": 3,
   "metadata": {},
   "outputs": [
    {
     "data": {
      "text/plain": [
       "\n",
       "15-to-1 with pphys=0.000100000000000000004792173602385929598312941379845142364501953125, dx=7, dz=3, dm=3\n",
       "Output error: 4.4e-08\n",
       "Qubits: 810\n",
       "Code cycles: 18.1\n",
       "T-gates per distillation: 1\n",
       "Qubitcycles: 14624\n",
       "        "
      ]
     },
     "metadata": {},
     "output_type": "display_data"
    }
   ],
   "source": [
    "from onelevel15to1 import cost_of_one_level_15to1\n",
    "\n",
    "display(cost_of_one_level_15to1(10**-4, 7, 3, 3))"
   ]
  },
  {
   "cell_type": "code",
   "execution_count": 4,
   "metadata": {},
   "outputs": [
    {
     "data": {
      "text/plain": [
       "\n",
       "15-to-1 with pphys=0.000100000000000000004792173602385929598312941379845142364501953125, dx=9, dz=3, dm=3\n",
       "Output error: 9.3e-10\n",
       "Qubits: 1146\n",
       "Code cycles: 18.1\n",
       "T-gates per distillation: 1\n",
       "Qubitcycles: 20703\n",
       "        "
      ]
     },
     "metadata": {},
     "output_type": "display_data"
    }
   ],
   "source": [
    "from onelevel15to1 import cost_of_one_level_15to1\n",
    "\n",
    "display(cost_of_one_level_15to1(10**-4, 9, 3, 3))"
   ]
  },
  {
   "cell_type": "code",
   "execution_count": 5,
   "metadata": {},
   "outputs": [
    {
     "data": {
      "text/plain": [
       "\n",
       "15-to-1 with pphys=0.000100000000000000004792173602385929598312941379845142364501953125, dx=11, dz=5, dm=5\n",
       "Output error: 1.9e-11\n",
       "Qubits: 2066\n",
       "Code cycles: 30.0\n",
       "T-gates per distillation: 1\n",
       "Qubitcycles: 62044\n",
       "        "
      ]
     },
     "metadata": {},
     "output_type": "display_data"
    }
   ],
   "source": [
    "from onelevel15to1 import cost_of_one_level_15to1\n",
    "\n",
    "display(cost_of_one_level_15to1(10**-4, 11, 5, 5))"
   ]
  },
  {
   "cell_type": "code",
   "execution_count": 6,
   "metadata": {},
   "outputs": [
    {
     "data": {
      "text/plain": [
       "\n",
       "(15-to-1)x(20-to-4) with pphys=0.000100000000000000004792173602385929598312941379845142364501953125, dx=9, dz=3, dm=3, dx2=15, dz2=7, dm2=9, nl1=4\n",
       "Output error: 2.4e-15\n",
       "Qubits: 16410\n",
       "Code cycles: 90.3\n",
       "T-gates per distillation: 4\n",
       "Qubitcycles: 370577\n",
       "        "
      ]
     },
     "metadata": {},
     "output_type": "display_data"
    }
   ],
   "source": [
    "from twolevel20to4 import cost_of_two_level_20to4\n",
    "\n",
    "display(cost_of_two_level_20to4(10**-4, 9, 3, 3, 15, 7, 9 ,4))"
   ]
  },
  {
   "cell_type": "code",
   "execution_count": 2,
   "metadata": {},
   "outputs": [
    {
     "data": {
      "text/plain": [
       "\n",
       "(15-to-1)x(15-to-1) with pphys=0.000100000000000000004792173602385929598312941379845142364501953125, dx=9, dz=3, dm=3, dx2=25, dz2=9, dm2=9, nl1=4\n",
       "Output error: 6.3e-25\n",
       "Qubits: 18630\n",
       "Code cycles: 67.7\n",
       "T-gates per distillation: 1\n",
       "Qubitcycles: 1262129\n",
       "        "
      ]
     },
     "metadata": {},
     "output_type": "display_data"
    }
   ],
   "source": [
    "from twolevel15to1 import cost_of_two_level_15to1\n",
    "\n",
    "display(cost_of_two_level_15to1(10**-4, 9, 3, 3, 25, 9, 9 ,4))"
   ]
  },
  {
   "cell_type": "code",
   "execution_count": 7,
   "metadata": {},
   "outputs": [
    {
     "data": {
      "text/plain": [
       "\n",
       "15-to-1 with pphys=0.001000000000000000020816681711721685132943093776702880859375, dx=17, dz=7, dm=7\n",
       "Output error: 4.5e-08\n",
       "Qubits: 4618\n",
       "Code cycles: 42.6\n",
       "T-gates per distillation: 1\n",
       "Qubitcycles: 196887\n",
       "        "
      ]
     },
     "metadata": {},
     "output_type": "display_data"
    }
   ],
   "source": [
    "from onelevel15to1 import cost_of_one_level_15to1\n",
    "\n",
    "display(cost_of_one_level_15to1(10**-3, 17, 7, 7))"
   ]
  },
  {
   "cell_type": "code",
   "execution_count": 8,
   "metadata": {},
   "outputs": [
    {
     "data": {
      "text/plain": [
       "\n",
       "(15-to-1)x(20-to-4) with pphys=0.001000000000000000020816681711721685132943093776702880859375, dx=13, dz=5, dm=5, dx2=23, dz2=11, dm2=13, nl1=6\n",
       "Output error: 1.4e-10\n",
       "Qubits: 43344\n",
       "Code cycles: 130.0\n",
       "T-gates per distillation: 4\n",
       "Qubitcycles: 1408838\n",
       "        "
      ]
     },
     "metadata": {},
     "output_type": "display_data"
    }
   ],
   "source": [
    "from twolevel20to4 import cost_of_two_level_20to4\n",
    "\n",
    "display(cost_of_two_level_20to4(10**-3, 13, 5, 5, 23, 11, 13, 6))"
   ]
  },
  {
   "cell_type": "code",
   "execution_count": 9,
   "metadata": {},
   "outputs": [
    {
     "data": {
      "text/plain": [
       "\n",
       "(15-to-1)x(20-to-4) with pphys=0.001000000000000000020816681711721685132943093776702880859375, dx=13, dz=5, dm=5, dx2=27, dz2=13, dm2=15, nl1=4\n",
       "Output error: 2.6e-11\n",
       "Qubits: 46790\n",
       "Code cycles: 157.4\n",
       "T-gates per distillation: 4\n",
       "Qubitcycles: 1841355\n",
       "        "
      ]
     },
     "metadata": {},
     "output_type": "display_data"
    }
   ],
   "source": [
    "from twolevel20to4 import cost_of_two_level_20to4\n",
    "\n",
    "display(cost_of_two_level_20to4(10**-3, 13, 5, 5, 27, 13, 15, 4))"
   ]
  },
  {
   "cell_type": "code",
   "execution_count": 10,
   "metadata": {},
   "outputs": [
    {
     "data": {
      "text/plain": [
       "\n",
       "(15-to-1)x(15-to-1) with pphys=0.001000000000000000020816681711721685132943093776702880859375, dx=11, dz=5, dm=5, dx2=25, dz2=11, dm2=11, nl1=6\n",
       "Output error: 2.7e-12\n",
       "Qubits: 30732\n",
       "Code cycles: 82.5\n",
       "T-gates per distillation: 1\n",
       "Qubitcycles: 2536372\n",
       "        "
      ]
     },
     "metadata": {},
     "output_type": "display_data"
    }
   ],
   "source": [
    "from twolevel15to1 import cost_of_two_level_15to1\n",
    "\n",
    "display(cost_of_two_level_15to1(10**-3, 11, 5, 5, 25, 11, 11, 6))"
   ]
  },
  {
   "cell_type": "code",
   "execution_count": 11,
   "metadata": {},
   "outputs": [
    {
     "data": {
      "text/plain": [
       "\n",
       "(15-to-1)x(15-to-1) with pphys=0.001000000000000000020816681711721685132943093776702880859375, dx=13, dz=5, dm=5, dx2=29, dz2=11, dm2=13, nl1=6\n",
       "Output error: 3.3e-14\n",
       "Qubits: 39108\n",
       "Code cycles: 97.5\n",
       "T-gates per distillation: 1\n",
       "Qubitcycles: 3813424\n",
       "        "
      ]
     },
     "metadata": {},
     "output_type": "display_data"
    }
   ],
   "source": [
    "from twolevel15to1 import cost_of_two_level_15to1\n",
    "\n",
    "display(cost_of_two_level_15to1(10**-3, 13, 5, 5, 29, 11, 13, 6))"
   ]
  },
  {
   "cell_type": "code",
   "execution_count": 12,
   "metadata": {},
   "outputs": [
    {
     "data": {
      "text/plain": [
       "\n",
       "(15-to-1)x(15-to-1) with pphys=0.001000000000000000020816681711721685132943093776702880859375, dx=17, dz=7, dm=7, dx2=41, dz2=17, dm2=17, nl1=6\n",
       "Output error: 4.5e-20\n",
       "Qubits: 73460\n",
       "Code cycles: 127.5\n",
       "T-gates per distillation: 1\n",
       "Qubitcycles: 9366160\n",
       "        "
      ]
     },
     "metadata": {},
     "output_type": "display_data"
    }
   ],
   "source": [
    "from twolevel15to1 import cost_of_two_level_15to1\n",
    "\n",
    "display(cost_of_two_level_15to1(10**-3, 17, 7, 7, 41, 17, 17, 6))"
   ]
  },
  {
   "cell_type": "code",
   "execution_count": 13,
   "metadata": {},
   "outputs": [
    {
     "data": {
      "text/plain": [
       "\n",
       "fmall footprint 15-to-1 with pphys=0.0001, dx=9, dz=3, dm=3\n",
       "Output error: 1.5e-09\n",
       "Qubits: 762\n",
       "Code cycles: 36.2\n",
       "T-gates per distillation: 1\n",
       "Qubitcycles: 27560\n",
       "        "
      ]
     },
     "metadata": {},
     "output_type": "display_data"
    }
   ],
   "source": [
    "from smallfootprint import cost_of_one_level_15to1_small_footprint\n",
    "\n",
    "display(cost_of_one_level_15to1_small_footprint(10**-4, 9, 3, 3))"
   ]
  },
  {
   "cell_type": "code",
   "execution_count": 14,
   "metadata": {},
   "outputs": [
    {
     "data": {
      "text/plain": [
       "\n",
       "Small footprint (15-to-1)x(15-to-1) with pphys=0.001, dx=9, dz=5, dm=5, dx2=21, dz2=9, dm2=11\n",
       "Output error: 6.1e-10\n",
       "Qubits: 7782\n",
       "Code cycles: 468.5\n",
       "T-gates per distillation: 1\n",
       "Qubitcycles: 3645550\n",
       "        "
      ]
     },
     "metadata": {},
     "output_type": "display_data"
    }
   ],
   "source": [
    "from smallfootprint import cost_of_two_level_15to1_small_footprint\n",
    "\n",
    "display(cost_of_two_level_15to1_small_footprint(10**-3, 9, 5, 5, 21, 9, 11))"
   ]
  },
  {
   "cell_type": "code",
   "execution_count": 15,
   "metadata": {},
   "outputs": [
    {
     "data": {
      "text/plain": [
       "\n",
       "(15-to-1)x(8-to-CCZ) with pphys=0.000100000000000000004792173602385929598312941379845142364501953125, dx=7, dz=3, dm=3, dx2=15, dz2=7, dm2=9, nl1=4\n",
       "Output error: 7.2e-14\n",
       "Qubits: 12384\n",
       "Code cycles: 36.1\n",
       "T-gates per distillation: 1\n",
       "Qubitcycles: 447189\n",
       "        "
      ]
     },
     "metadata": {},
     "output_type": "display_data"
    }
   ],
   "source": [
    "from twolevel8toCCZ import cost_of_two_level_8toccz\n",
    "\n",
    "display(cost_of_two_level_8toccz(10**-4, 7, 3, 3, 15, 7, 9, 4))"
   ]
  },
  {
   "cell_type": "code",
   "execution_count": 16,
   "metadata": {},
   "outputs": [
    {
     "data": {
      "text/plain": [
       "\n",
       "(15-to-1)x(8-to-CCZ) with pphys=0.001000000000000000020816681711721685132943093776702880859375, dx=13, dz=7, dm=7, dx2=25, dz2=15, dm2=15, nl1=6\n",
       "Output error: 5.2e-11\n",
       "Qubits: 47046\n",
       "Code cycles: 60.0\n",
       "T-gates per distillation: 1\n",
       "Qubitcycles: 2822789\n",
       "        "
      ]
     },
     "metadata": {},
     "output_type": "display_data"
    }
   ],
   "source": [
    "from twolevel8toCCZ import cost_of_two_level_8toccz\n",
    "\n",
    "display(cost_of_two_level_8toccz(10**-3, 13, 7, 7, 25, 15, 15, 6))"
   ]
  },
  {
   "cell_type": "markdown",
   "metadata": {},
   "source": [
    "# Finding new factories"
   ]
  },
  {
   "cell_type": "markdown",
   "metadata": {},
   "source": [
    "## Two level 15 to 1"
   ]
  },
  {
   "cell_type": "code",
   "execution_count": null,
   "metadata": {},
   "outputs": [],
   "source": [
    "import mpmath\n",
    "from multiprocessing import Pool\n",
    "import pandas as pd\n",
    "from datetime import datetime\n",
    "\n",
    "from magic_state_factory import MagicStateFactory\n",
    "from twolevel15to1 import cost_of_two_level_15to1\n",
    "\n",
    "\n",
    "def objective(factory: MagicStateFactory) -> mpmath.mpf:\n",
    "    return mp.mpf(factory.distilled_magic_state_error_rate) / factory.qubits\n",
    "\n",
    "\n",
    "\n",
    "step_size: int = 2\n",
    "pphys = 10**-4\n",
    "\n",
    "\n",
    "class SimulationTwoLevel15to1:\n",
    "\n",
    "    def __init__(\n",
    "        self, dx: int, dz: int, dm: int, dx2: int, dz2: int, dm2: int, nl1: int, tag: str = \"Simulation\"\n",
    "    ):\n",
    "        self.prec = mp.prec\n",
    "        self.pphys = pphys\n",
    "        self.dx = dx\n",
    "        self.dz = dz\n",
    "        self.dm = dm\n",
    "        self.dx2 = dx2\n",
    "        self.dz2 = dz2\n",
    "        self.dm2 = dm2\n",
    "        self.nl1 = nl1\n",
    "        self.factory = cost_of_two_level_15to1(pphys, dx, dz, dm, dx2, dz2, dm2, nl1)\n",
    "        print(f'{tag}: {self.factory.name}; rating={self.rating()}')\n",
    "\n",
    "    def rating(self) -> mpmath.mpf:\n",
    "        return (\n",
    "            self.factory.distilled_magic_state_error_rate * self.factory.qubits\n",
    "        )\n",
    "\n",
    "\n",
    "df = pd.DataFrame(columns = ['date', 'precision_in_bits', 'pphys', 'dx', 'dz', 'dm', 'dx2', 'dz2', 'dm2', 'nl1', 'error_rate', 'qubits', 'code_cycles'])\n",
    "def log_simulation(sim: SimulationTwoLevel15to1) -> None:\n",
    "    new_row = {'date': datetime.now().strftime(\"%Y-%m-%d %H:%M\"), 'pphys': pphys, 'precision_in_bits': mp.prec, 'dx': sim.dx, 'dz': sim.dz, 'dm': sim.dm, 'dx2': sim.dx2, 'dz2': sim.dz2, 'dm2': sim.dm2, 'nl1': sim.nl1, 'error_rate': sim.factory.distilled_magic_state_error_rate, 'qubits': sim.factory.qubits, 'code_cycles': sim.factory.distillation_time_in_cycles}\n",
    "    df.loc[len(df)] = new_row # type: ignore\n",
    "\n",
    "\n",
    "centre_dx = 9\n",
    "centre_dz = 3\n",
    "centre_dm = 3\n",
    "centre_dx2 = 25\n",
    "centre_dz2 = 9\n",
    "centre_dm2 = 9\n",
    "centre_nl1 = 8\n",
    "\n",
    "\n",
    "while True:\n",
    "    with Pool(processes=8) as pool:\n",
    "        try:\n",
    "\n",
    "            print('Starting round of optimization...')\n",
    "\n",
    "            centre = pool.apply_async(\n",
    "                SimulationTwoLevel15to1,\n",
    "                (\n",
    "                    centre_dx,\n",
    "                    centre_dz,\n",
    "                    centre_dm,\n",
    "                    centre_dx2,\n",
    "                    centre_dz2,\n",
    "                    centre_dm2,\n",
    "                    centre_nl1,\n",
    "                    'centre',\n",
    "                ),\n",
    "            )\n",
    "\n",
    "            dx_probe = pool.apply_async(\n",
    "                SimulationTwoLevel15to1,\n",
    "                (\n",
    "                    centre_dx + step_size,\n",
    "                    centre_dz,\n",
    "                    centre_dm,\n",
    "                    centre_dx2,\n",
    "                    centre_dz2,\n",
    "                    centre_dm2,\n",
    "                    centre_nl1,\n",
    "                    'dx_probe',\n",
    "                ),\n",
    "            )\n",
    "\n",
    "            dz_probe = pool.apply_async(\n",
    "                SimulationTwoLevel15to1,\n",
    "                (\n",
    "                    centre_dx,\n",
    "                    centre_dz  + step_size,\n",
    "                    centre_dm,\n",
    "                    centre_dx2,\n",
    "                    centre_dz2,\n",
    "                    centre_dm2,\n",
    "                    centre_nl1,\n",
    "                    'dz_probe',\n",
    "                ),\n",
    "            )\n",
    "\n",
    "            dm_probe = pool.apply_async(\n",
    "                SimulationTwoLevel15to1,\n",
    "                (\n",
    "                    centre_dx,\n",
    "                    centre_dz,\n",
    "                    centre_dm   + step_size,\n",
    "                    centre_dx2,\n",
    "                    centre_dz2,\n",
    "                    centre_dm2,\n",
    "                    centre_nl1,\n",
    "                    'dm_probe',\n",
    "                ),\n",
    "            )\n",
    "\n",
    "            dx2_probe = pool.apply_async(\n",
    "                SimulationTwoLevel15to1,\n",
    "                (\n",
    "                    centre_dx,\n",
    "                    centre_dz ,\n",
    "                    centre_dm,\n",
    "                    centre_dx2 + step_size,\n",
    "                    centre_dz2,\n",
    "                    centre_dm2,\n",
    "                    centre_nl1,\n",
    "                    'dx2_probe',\n",
    "                ),\n",
    "            )\n",
    "\n",
    "            dz2_probe = pool.apply_async(\n",
    "                SimulationTwoLevel15to1,\n",
    "                (\n",
    "                    centre_dx,\n",
    "                    centre_dz ,\n",
    "                    centre_dm,\n",
    "                    centre_dx2,\n",
    "                    centre_dz2  + step_size,\n",
    "                    centre_dm2,\n",
    "                    centre_nl1,\n",
    "                    'dz2_probe',\n",
    "                ),\n",
    "            )\n",
    "\n",
    "            dm2_probe = pool.apply_async(\n",
    "                SimulationTwoLevel15to1,\n",
    "                (\n",
    "                    centre_dx,\n",
    "                    centre_dz ,\n",
    "                    centre_dm,\n",
    "                    centre_dx2,\n",
    "                    centre_dz2,\n",
    "                    centre_dm2  + step_size,\n",
    "                    centre_nl1,\n",
    "                    'dm2_probe',\n",
    "                ),\n",
    "            )\n",
    "\n",
    "            nl1_probe = pool.apply_async(\n",
    "                SimulationTwoLevel15to1,\n",
    "                (\n",
    "                    centre_dx,\n",
    "                    centre_dz ,\n",
    "                    centre_dm,\n",
    "                    centre_dx2,\n",
    "                    centre_dz2,\n",
    "                    centre_dm2,\n",
    "                    centre_nl1 + step_size,\n",
    "                    'nl1_probe',\n",
    "                ),\n",
    "            )\n",
    "\n",
    "            pool.close()\n",
    "\n",
    "            centre_rating = centre.get().rating()\n",
    "\n",
    "            log_simulation(centre.get())\n",
    "            log_simulation(dx_probe.get())\n",
    "            log_simulation(dz_probe.get())\n",
    "            log_simulation(dm_probe.get())\n",
    "            log_simulation(dx2_probe.get())\n",
    "            log_simulation(dz2_probe.get())\n",
    "            log_simulation(dm2_probe.get())\n",
    "            log_simulation(nl1_probe.get())\n",
    "            \n",
    "\n",
    "            centre_dx = max(3, centre_dx + step_size * (1 if dx_probe.get().rating() <= centre_rating else -1))\n",
    "            centre_dz = max(3, centre_dz + step_size * (1 if dz_probe.get().rating() <= centre_rating else -1))\n",
    "            centre_dm = max(3, centre_dm + step_size * (1 if dm_probe.get().rating() <= centre_rating else -1))\n",
    "            centre_dx2 = max(3, centre_dx2 + step_size * (1 if dx2_probe.get().rating() <= centre_rating else -1))\n",
    "            centre_dz2 = max(3, centre_dz2 + step_size * (1 if dz2_probe.get().rating() <= centre_rating else -1))\n",
    "            centre_dm2 = max(3, centre_dm2 + step_size * (1 if dm2_probe.get().rating() <= centre_rating else -1))\n",
    "            centre_nl1 = max(2, centre_nl1 + step_size * (1 if nl1_probe.get().rating() <= centre_rating else -1))\n",
    "\n",
    "        except KeyboardInterrupt:\n",
    "            pool.terminate()\n",
    "            df.to_csv(f'Simulation_Data/two_level_15to1_simulations {datetime.now().strftime(\"%Y-%m-%d %H:%M\")}.csv', mode='a', index=False, header=True)\n",
    "            break"
   ]
  }
 ],
 "metadata": {
  "kernelspec": {
   "display_name": "magicland",
   "language": "python",
   "name": "python3"
  },
  "language_info": {
   "codemirror_mode": {
    "name": "ipython",
    "version": 3
   },
   "file_extension": ".py",
   "mimetype": "text/x-python",
   "name": "python",
   "nbconvert_exporter": "python",
   "pygments_lexer": "ipython3",
   "version": "3.11.7"
  }
 },
 "nbformat": 4,
 "nbformat_minor": 2
}
